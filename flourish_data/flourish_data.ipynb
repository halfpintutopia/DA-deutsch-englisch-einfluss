{
 "cells": [
  {
   "cell_type": "markdown",
   "metadata": {},
   "source": [
    "# Flourish CSVs\n",
    "\n",
    "1. Export from Python\n",
    "2. Import to Flourish\n",
    "3. Build Charts\n",
    "\n",
    "_Formatting CSVs to match the Flourish templates._"
   ]
  },
  {
   "cell_type": "code",
   "execution_count": null,
   "metadata": {},
   "outputs": [],
   "source": [
    "import warnings\n",
    "from pathlib import Path\n",
    "import inspect\n",
    "import sys\n",
    "import plotly.express as px\n",
    "import numpy as np\n",
    "import pandas as pd\n",
    "from ast import literal_eval\n",
    "from collections import Counter\n",
    "from itertools import chain\n",
    "\n",
    "warnings.filterwarnings('ignore')\n",
    "\n",
    "pd.options.mode.chained_assignment = None"
   ]
  },
  {
   "cell_type": "code",
   "execution_count": 4,
   "metadata": {},
   "outputs": [],
   "source": [
    "path_to_file = \"../scraped_articles_enriched_full.csv\"\n",
    "df = pd.read_csv(path_to_file)"
   ]
  },
  {
   "cell_type": "markdown",
   "metadata": {},
   "source": [
    "## Line Chart -> Loanword Density Over Time (2016 - 2024)"
   ]
  },
  {
   "cell_type": "code",
   "execution_count": 6,
   "metadata": {},
   "outputs": [],
   "source": [
    "# For Slide 4, 11, 12\n",
    "df_line = df.groupby(\"year\")[\"loanword_density\"].mean().reset_index()\n",
    "df_line.to_csv(\"loanword_density_by_year.csv\", index=False)"
   ]
  },
  {
   "cell_type": "markdown",
   "metadata": {},
   "source": [
    "## Confidence Interval + Loanword Usage Over Time"
   ]
  },
  {
   "cell_type": "code",
   "execution_count": 44,
   "metadata": {},
   "outputs": [],
   "source": [
    "summary = df.groupby(\"year\")[\"loanword_density\"].agg(\n",
    "    [\"mean\", \"count\", \"std\"]\n",
    ").reset_index()\n",
    "\n",
    "summary[\"sem\"] = summary[\"std\"] / np.sqrt(summary[\"count\"])\n",
    "summary[\"ci95_low\"] = summary[\"mean\"] - 1.96 * summary[\"sem\"]\n",
    "summary[\"ci95_high\"] = summary[\"mean\"] + 1.96 * summary[\"sem\"]\n",
    "\n",
    "summary = summary.rename(\n",
    "    columns={\n",
    "        \"year\": \"Year\",\n",
    "        \"mean\": \"Avg Loanword Density\",\n",
    "        \"count\": \"Article Count\",\n",
    "        \"ci95_low\": \"CI Lower\",\n",
    "        \"ci95_high\": \"CI Upper\"\n",
    "    }\n",
    ")\n",
    "\n",
    "summary.to_csv(\"loanword_density_confidence_flourish.csv\", index=False)"
   ]
  },
  {
   "cell_type": "markdown",
   "metadata": {},
   "source": [
    "## Histogram -> Loanword Density Speed\n",
    "\n",
    "_Histograms are not available on Flourish_"
   ]
  },
  {
   "cell_type": "code",
   "execution_count": 20,
   "metadata": {},
   "outputs": [],
   "source": [
    "df[\"density_bin\"] = pd.cut(df[\"loanword_density\"], bins=10)\n",
    "df_hist = df[\"density_bin\"].value_counts().sort_index().reset_index()"
   ]
  },
  {
   "cell_type": "code",
   "execution_count": 21,
   "metadata": {},
   "outputs": [
    {
     "data": {
      "text/html": [
       "<div>\n",
       "<style scoped>\n",
       "    .dataframe tbody tr th:only-of-type {\n",
       "        vertical-align: middle;\n",
       "    }\n",
       "\n",
       "    .dataframe tbody tr th {\n",
       "        vertical-align: top;\n",
       "    }\n",
       "\n",
       "    .dataframe thead th {\n",
       "        text-align: right;\n",
       "    }\n",
       "</style>\n",
       "<table border=\"1\" class=\"dataframe\">\n",
       "  <thead>\n",
       "    <tr style=\"text-align: right;\">\n",
       "      <th></th>\n",
       "      <th>Unnamed: 0</th>\n",
       "      <th>article_id</th>\n",
       "      <th>url</th>\n",
       "      <th>source_site</th>\n",
       "      <th>date</th>\n",
       "      <th>year</th>\n",
       "      <th>headline</th>\n",
       "      <th>word_count</th>\n",
       "      <th>text</th>\n",
       "      <th>loanwords</th>\n",
       "      <th>top_loanwords</th>\n",
       "      <th>sentiment</th>\n",
       "      <th>loanword_count</th>\n",
       "      <th>loanword_density</th>\n",
       "      <th>density_bin</th>\n",
       "    </tr>\n",
       "  </thead>\n",
       "  <tbody>\n",
       "    <tr>\n",
       "      <th>0</th>\n",
       "      <td>0</td>\n",
       "      <td>0</td>\n",
       "      <td>https://www.businessinsider.de/wirtschaft/fina...</td>\n",
       "      <td>businessinsider.de</td>\n",
       "      <td>2022-10-14</td>\n",
       "      <td>2022</td>\n",
       "      <td>Wenn ihr euren Wohlstand im Alter sichern woll...</td>\n",
       "      <td>729</td>\n",
       "      <td>Die Niedrigzinspolitik wirkt sich auf die Alte...</td>\n",
       "      <td>[thema]</td>\n",
       "      <td>['thema']</td>\n",
       "      <td>negative</td>\n",
       "      <td>9</td>\n",
       "      <td>0.012346</td>\n",
       "      <td>(-0.000857, 0.0959]</td>\n",
       "    </tr>\n",
       "    <tr>\n",
       "      <th>1</th>\n",
       "      <td>1</td>\n",
       "      <td>1</td>\n",
       "      <td>https://www.businessinsider.de/karriere/arbeit...</td>\n",
       "      <td>businessinsider.de</td>\n",
       "      <td>2022-10-17</td>\n",
       "      <td>2022</td>\n",
       "      <td>Narzisstische Führungskräfte überschätzen sich...</td>\n",
       "      <td>1089</td>\n",
       "      <td>Wem es an Informationen mangelt, braucht ein g...</td>\n",
       "      <td>[informationen, professorin, empathie, team, e...</td>\n",
       "      <td>['team', 'feedback', 'informationen']</td>\n",
       "      <td>neutral</td>\n",
       "      <td>128</td>\n",
       "      <td>0.117539</td>\n",
       "      <td>(0.0959, 0.192]</td>\n",
       "    </tr>\n",
       "    <tr>\n",
       "      <th>2</th>\n",
       "      <td>2</td>\n",
       "      <td>2</td>\n",
       "      <td>https://www.businessinsider.de/gruenderszene/k...</td>\n",
       "      <td>businessinsider.de</td>\n",
       "      <td>2022-10-12</td>\n",
       "      <td>2022</td>\n",
       "      <td>Zwei CEOs statt eines: So hat dieses Startup d...</td>\n",
       "      <td>161</td>\n",
       "      <td>Whistleblowing Mehr von Gründerszene Folgen Ko...</td>\n",
       "      <td>[whistleblowing]</td>\n",
       "      <td>['whistleblowing']</td>\n",
       "      <td>negative</td>\n",
       "      <td>18</td>\n",
       "      <td>0.111801</td>\n",
       "      <td>(0.0959, 0.192]</td>\n",
       "    </tr>\n",
       "    <tr>\n",
       "      <th>3</th>\n",
       "      <td>3</td>\n",
       "      <td>3</td>\n",
       "      <td>https://www.businessinsider.de/insider-picks/t...</td>\n",
       "      <td>businessinsider.de</td>\n",
       "      <td>2022-10-13</td>\n",
       "      <td>2022</td>\n",
       "      <td>Die besten Serien, die ihr nur bei Amazon Prim...</td>\n",
       "      <td>3185</td>\n",
       "      <td>Disclaimer: Dieser Artikel enthält Affiliate-L...</td>\n",
       "      <td>[blockbuster, testphase, york, gear, homecomin...</td>\n",
       "      <td>['york', 'homecoming', 'blockbuster']</td>\n",
       "      <td>neutral</td>\n",
       "      <td>136</td>\n",
       "      <td>0.042700</td>\n",
       "      <td>(-0.000857, 0.0959]</td>\n",
       "    </tr>\n",
       "    <tr>\n",
       "      <th>4</th>\n",
       "      <td>4</td>\n",
       "      <td>4</td>\n",
       "      <td>https://www.businessinsider.de/politik/deutsch...</td>\n",
       "      <td>businessinsider.de</td>\n",
       "      <td>2022-10-12</td>\n",
       "      <td>2022</td>\n",
       "      <td>Lieferung der Iris-T: Was kann das moderne Flu...</td>\n",
       "      <td>814</td>\n",
       "      <td>Die Ukraine hat bestätigt, die erste Einheit d...</td>\n",
       "      <td>[eurofighter]</td>\n",
       "      <td>['eurofighter']</td>\n",
       "      <td>neutral</td>\n",
       "      <td>15</td>\n",
       "      <td>0.018428</td>\n",
       "      <td>(-0.000857, 0.0959]</td>\n",
       "    </tr>\n",
       "  </tbody>\n",
       "</table>\n",
       "</div>"
      ],
      "text/plain": [
       "   Unnamed: 0  article_id                                                url  \\\n",
       "0           0           0  https://www.businessinsider.de/wirtschaft/fina...   \n",
       "1           1           1  https://www.businessinsider.de/karriere/arbeit...   \n",
       "2           2           2  https://www.businessinsider.de/gruenderszene/k...   \n",
       "3           3           3  https://www.businessinsider.de/insider-picks/t...   \n",
       "4           4           4  https://www.businessinsider.de/politik/deutsch...   \n",
       "\n",
       "          source_site        date  year  \\\n",
       "0  businessinsider.de  2022-10-14  2022   \n",
       "1  businessinsider.de  2022-10-17  2022   \n",
       "2  businessinsider.de  2022-10-12  2022   \n",
       "3  businessinsider.de  2022-10-13  2022   \n",
       "4  businessinsider.de  2022-10-12  2022   \n",
       "\n",
       "                                            headline  word_count  \\\n",
       "0  Wenn ihr euren Wohlstand im Alter sichern woll...         729   \n",
       "1  Narzisstische Führungskräfte überschätzen sich...        1089   \n",
       "2  Zwei CEOs statt eines: So hat dieses Startup d...         161   \n",
       "3  Die besten Serien, die ihr nur bei Amazon Prim...        3185   \n",
       "4  Lieferung der Iris-T: Was kann das moderne Flu...         814   \n",
       "\n",
       "                                                text  \\\n",
       "0  Die Niedrigzinspolitik wirkt sich auf die Alte...   \n",
       "1  Wem es an Informationen mangelt, braucht ein g...   \n",
       "2  Whistleblowing Mehr von Gründerszene Folgen Ko...   \n",
       "3  Disclaimer: Dieser Artikel enthält Affiliate-L...   \n",
       "4  Die Ukraine hat bestätigt, die erste Einheit d...   \n",
       "\n",
       "                                           loanwords  \\\n",
       "0                                            [thema]   \n",
       "1  [informationen, professorin, empathie, team, e...   \n",
       "2                                   [whistleblowing]   \n",
       "3  [blockbuster, testphase, york, gear, homecomin...   \n",
       "4                                      [eurofighter]   \n",
       "\n",
       "                           top_loanwords sentiment  loanword_count  \\\n",
       "0                              ['thema']  negative               9   \n",
       "1  ['team', 'feedback', 'informationen']   neutral             128   \n",
       "2                     ['whistleblowing']  negative              18   \n",
       "3  ['york', 'homecoming', 'blockbuster']   neutral             136   \n",
       "4                        ['eurofighter']   neutral              15   \n",
       "\n",
       "   loanword_density          density_bin  \n",
       "0          0.012346  (-0.000857, 0.0959]  \n",
       "1          0.117539      (0.0959, 0.192]  \n",
       "2          0.111801      (0.0959, 0.192]  \n",
       "3          0.042700  (-0.000857, 0.0959]  \n",
       "4          0.018428  (-0.000857, 0.0959]  "
      ]
     },
     "execution_count": 21,
     "metadata": {},
     "output_type": "execute_result"
    }
   ],
   "source": [
    "df.head()"
   ]
  },
  {
   "cell_type": "code",
   "execution_count": 27,
   "metadata": {},
   "outputs": [],
   "source": [
    "# For Slide 5\n",
    "df[\"density_bin\"] = pd.cut(df[\"loanword_density\"], bins=20)\n",
    "# df_hist = df[\"density_bin\"].value_counts().sort_index().reset_index()\n",
    "df_hist.columns = [\"density_bin\", \"article_count\"]\n",
    "df_hist.to_csv(\"loanword_density_histogram_v3.csv\", index=False)"
   ]
  },
  {
   "cell_type": "raw",
   "metadata": {
    "vscode": {
     "languageId": "raw"
    }
   },
   "source": [
    "df[\"label\"] = df[\"density_bin\"].apply(\n",
    "    lambda x: f\"{x.left:.1f} – {x.right:.1f}\"\n",
    ")\n",
    "\n",
    "df_hist.columns = [\"label\", \"article_count\"]\n",
    "\n",
    "df_hist.to_csv(\"loanword_density_histogram_bins10.csv\", index=False)"
   ]
  },
  {
   "cell_type": "code",
   "execution_count": 34,
   "metadata": {},
   "outputs": [
    {
     "data": {
      "text/html": [
       "<div>\n",
       "<style scoped>\n",
       "    .dataframe tbody tr th:only-of-type {\n",
       "        vertical-align: middle;\n",
       "    }\n",
       "\n",
       "    .dataframe tbody tr th {\n",
       "        vertical-align: top;\n",
       "    }\n",
       "\n",
       "    .dataframe thead th {\n",
       "        text-align: right;\n",
       "    }\n",
       "</style>\n",
       "<table border=\"1\" class=\"dataframe\">\n",
       "  <thead>\n",
       "    <tr style=\"text-align: right;\">\n",
       "      <th></th>\n",
       "      <th>label</th>\n",
       "      <th>article_count</th>\n",
       "    </tr>\n",
       "  </thead>\n",
       "  <tbody>\n",
       "    <tr>\n",
       "      <th>0</th>\n",
       "      <td>(-0.05, 0.06]</td>\n",
       "      <td>34626</td>\n",
       "    </tr>\n",
       "    <tr>\n",
       "      <th>1</th>\n",
       "      <td>(0.06, 0.17]</td>\n",
       "      <td>45199</td>\n",
       "    </tr>\n",
       "    <tr>\n",
       "      <th>2</th>\n",
       "      <td>(0.17, 0.28]</td>\n",
       "      <td>19922</td>\n",
       "    </tr>\n",
       "    <tr>\n",
       "      <th>3</th>\n",
       "      <td>(0.28, 0.39]</td>\n",
       "      <td>6667</td>\n",
       "    </tr>\n",
       "    <tr>\n",
       "      <th>4</th>\n",
       "      <td>(0.39, 0.5]</td>\n",
       "      <td>1725</td>\n",
       "    </tr>\n",
       "    <tr>\n",
       "      <th>5</th>\n",
       "      <td>(0.5, 0.61]</td>\n",
       "      <td>358</td>\n",
       "    </tr>\n",
       "    <tr>\n",
       "      <th>6</th>\n",
       "      <td>(0.61, 0.72]</td>\n",
       "      <td>101</td>\n",
       "    </tr>\n",
       "    <tr>\n",
       "      <th>7</th>\n",
       "      <td>(0.72, 0.83]</td>\n",
       "      <td>16</td>\n",
       "    </tr>\n",
       "    <tr>\n",
       "      <th>8</th>\n",
       "      <td>(0.83, 0.94]</td>\n",
       "      <td>3</td>\n",
       "    </tr>\n",
       "    <tr>\n",
       "      <th>9</th>\n",
       "      <td>(0.94, 1.05]</td>\n",
       "      <td>1</td>\n",
       "    </tr>\n",
       "  </tbody>\n",
       "</table>\n",
       "</div>"
      ],
      "text/plain": [
       "           label  article_count\n",
       "0  (-0.05, 0.06]          34626\n",
       "1   (0.06, 0.17]          45199\n",
       "2   (0.17, 0.28]          19922\n",
       "3   (0.28, 0.39]           6667\n",
       "4    (0.39, 0.5]           1725\n",
       "5    (0.5, 0.61]            358\n",
       "6   (0.61, 0.72]            101\n",
       "7   (0.72, 0.83]             16\n",
       "8   (0.83, 0.94]              3\n",
       "9   (0.94, 1.05]              1"
      ]
     },
     "execution_count": 34,
     "metadata": {},
     "output_type": "execute_result"
    }
   ],
   "source": [
    "df_hist"
   ]
  },
  {
   "cell_type": "code",
   "execution_count": 42,
   "metadata": {},
   "outputs": [],
   "source": [
    "bin_edges = np.linspace(-0.05, 1.05, 11)\n",
    "bin_labels = [f\"{bin_edges[i]:.2f} - {bin_edges[i+1]:.2f}\" for i in range(len(bin_edges)-1)]\n",
    "\n",
    "df[\"density_bin\"] = pd.cut(\n",
    "    df[\"loanword_density\"], \n",
    "    bins=bin_edges, \n",
    "    labels=bin_labels,\n",
    "    include_lowest=True\n",
    ")\n",
    "\n",
    "bin_counts = df[\"density_bin\"].value_counts().sort_index().reset_index()\n",
    "bin_counts.columns = [\"Loanword Density Range\", \"Article Count\"]\n",
    "\n",
    "bin_counts.to_csv(\"loanword_density_histogram_bins10.csv\", index=False)"
   ]
  },
  {
   "cell_type": "markdown",
   "metadata": {},
   "source": [
    "## Boxplot or Bar -> Topic vs. Loanword Usage\n",
    "\n",
    "_As only one domain use topic_"
   ]
  },
  {
   "cell_type": "code",
   "execution_count": 10,
   "metadata": {},
   "outputs": [],
   "source": [
    "# For Slide 6\n",
    "# df_topic = df.groupby(\"topic\")[\"loanword_density\"].mean().reset_index()\n",
    "# df_topic.to_csv(\"loanword_density_by_topic.csv\", index=False)"
   ]
  },
  {
   "cell_type": "markdown",
   "metadata": {},
   "source": [
    "## Sentiment Correlation -> Boxplot / Bar"
   ]
  },
  {
   "cell_type": "code",
   "execution_count": 18,
   "metadata": {},
   "outputs": [],
   "source": [
    "# For Slide 7\n",
    "df_sentiment = df.groupby(\"sentiment\")[\"loanword_density\"].mean().reset_index()\n",
    "df_sentiment.to_csv(\n",
    "    \"loanword_density_by_sentiment.csv\", index=False)"
   ]
  },
  {
   "cell_type": "code",
   "execution_count": null,
   "metadata": {},
   "outputs": [],
   "source": [
    "grouped = df.groupby([\"year\", \"sentiment\"])[\n",
    "    \"loanword_density\"].mean().reset_index()\n",
    "\n",
    "pivot_df = grouped.pivot(\n",
    "    index=\"year\",\n",
    "    columns=\"sentiment\",\n",
    "    values=\"loanword_density\"\n",
    ").reset_index()\n",
    "\n",
    "pivot_df = pivot_df.sort_values(\"year\")\n",
    "\n",
    "output_path = \"loanword_density_by_sentiment_breakdown.csv\"\n",
    "\n",
    "pivot_df.to_csv(output_path, index=False)"
   ]
  },
  {
   "cell_type": "markdown",
   "metadata": {},
   "source": [
    "## Top Loanwords -> Horizontal Bar Chart"
   ]
  },
  {
   "cell_type": "code",
   "execution_count": null,
   "metadata": {},
   "outputs": [],
   "source": [
    "df[\"loanwords\"] = df[\"loanwords\"].apply(literal_eval)"
   ]
  },
  {
   "cell_type": "code",
   "execution_count": 16,
   "metadata": {},
   "outputs": [],
   "source": [
    "# For Slide 8\n",
    "all_words = list(chain.from_iterable(df[\"loanwords\"]))\n",
    "word_freq = Counter(all_words).most_common(20)\n",
    "df_top = pd.DataFrame(word_freq, columns=[\"loanword\", \"frequency\"])\n",
    "df_top.to_csv(\"top_loanwords_v2.csv\", index=False)"
   ]
  },
  {
   "cell_type": "markdown",
   "metadata": {},
   "source": [
    "## Forecasting Future Usage"
   ]
  },
  {
   "cell_type": "code",
   "execution_count": 46,
   "metadata": {},
   "outputs": [],
   "source": [
    "import pandas as pd\n",
    "import plotly.graph_objects as go\n",
    "from sklearn.linear_model import LinearRegression\n",
    "import numpy as np\n",
    "\n",
    "df = df[(df[\"year\"] >= 2016) & (df[\"year\"] <= 2023)]\n",
    "\n",
    "grouped = df.groupby(\"year\")[\"loanword_density\"].mean().reset_index()\n",
    "\n",
    "X = grouped[\"year\"].values.reshape(-1, 1)\n",
    "y = grouped[\"loanword_density\"].values\n",
    "\n",
    "model = LinearRegression()\n",
    "model.fit(X, y)\n",
    "\n",
    "future_years = np.array(list(range(2016, 2028))).reshape(-1, 1)\n",
    "forecast = model.predict(future_years)\n",
    "\n",
    "forecast_df = pd.DataFrame({\n",
    "    \"Year\": future_years.flatten(),\n",
    "    \"Forecast Loanword Density\": forecast\n",
    "})\n",
    "\n",
    "actuals = grouped.rename(\n",
    "    columns={\n",
    "        \"loanword_density\": \"Actual Loanword Density\",\n",
    "        \"year\": \"Year\"\n",
    "    }\n",
    ")\n",
    "\n",
    "flourish_df = pd.merge(forecast_df, actuals, on=\"Year\", how=\"left\")\n",
    "\n",
    "flourish_df.to_csv(\"loanword_forecast_flourish.csv\", index=False)"
   ]
  },
  {
   "cell_type": "code",
   "execution_count": null,
   "metadata": {},
   "outputs": [],
   "source": []
  }
 ],
 "metadata": {
  "kernelspec": {
   "display_name": "DataAnalytics",
   "language": "python",
   "name": "python3"
  },
  "language_info": {
   "codemirror_mode": {
    "name": "ipython",
    "version": 3
   },
   "file_extension": ".py",
   "mimetype": "text/x-python",
   "name": "python",
   "nbconvert_exporter": "python",
   "pygments_lexer": "ipython3",
   "version": "3.12.4"
  }
 },
 "nbformat": 4,
 "nbformat_minor": 2
}
