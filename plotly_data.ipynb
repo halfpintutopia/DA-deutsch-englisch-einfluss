{
 "cells": [
  {
   "cell_type": "markdown",
   "metadata": {},
   "source": [
    "# Visualisation with Plotly"
   ]
  },
  {
   "cell_type": "code",
   "execution_count": null,
   "metadata": {},
   "outputs": [],
   "source": [
    "import pandas as pd\n",
    "pd.options.mode.chained_assignment = None\n",
    "\n",
    "import numpy as np\n",
    "import plotly.express as px\n",
    "\n",
    "import sys\n",
    "import inspect\n",
    "\n",
    "import warnings\n",
    "warnings.filterwarnings('ignore')"
   ]
  },
  {
   "cell_type": "markdown",
   "metadata": {},
   "source": [
    "## Loan Density Over Time\n",
    "_Line Chart_"
   ]
  },
  {
   "cell_type": "code",
   "execution_count": null,
   "metadata": {},
   "outputs": [],
   "source": [
    "df_line = df.groupby(\"year\")[\"loanword_density\"].mean().reset_index()\n",
    "\n",
    "fig = px.line(\n",
    "    df_line,\n",
    "    x=\"year\",\n",
    "    y=\"loanword_density\",\n",
    "    title=\"Loanword Density Over Time\"\n",
    "    markers=True,\n",
    "    labels={\n",
    "        \"loanword_density\": \"Avg. Loanword Density\"\n",
    "    }\n",
    ")\n",
    "\n",
    "fig.show()"
   ]
  },
  {
   "cell_type": "markdown",
   "metadata": {},
   "source": [
    "Shows a rising trend with potential dip after 2020."
   ]
  },
  {
   "cell_type": "markdown",
   "metadata": {},
   "source": [
    "## Histogram"
   ]
  },
  {
   "cell_type": "code",
   "execution_count": null,
   "metadata": {},
   "outputs": [],
   "source": [
    "# TODO come back to this one\n",
    "fig = px.bar(\n",
    "\n",
    ")"
   ]
  },
  {
   "cell_type": "markdown",
   "metadata": {},
   "source": [
    "Shows articles with low loanword usage -> long tail toward higher values"
   ]
  },
  {
   "cell_type": "markdown",
   "metadata": {},
   "source": [
    "## Average Density by Topic - Bar Chart"
   ]
  },
  {
   "cell_type": "code",
   "execution_count": null,
   "metadata": {},
   "outputs": [],
   "source": [
    "df_topic = df.groupby(\"topic\")[\"loanword_density\"].mean().reset_index()\n",
    "\n",
    "fig = px.bar(\n",
    "    df_topic,\n",
    "    x=\"topic\",\n",
    "    y=\"avg_density\",\n",
    "    title=\"Avg. Loanword Density by Topic\",\n",
    "    labels={\n",
    "        \"avg_density\": \"Avg. Loanword Density\"\n",
    "    }\n",
    ")\n",
    "\n",
    "fig.show()"
   ]
  },
  {
   "cell_type": "markdown",
   "metadata": {},
   "source": [
    "Shows certain topics such as tech likely highest"
   ]
  },
  {
   "cell_type": "markdown",
   "metadata": {},
   "source": [
    "## Sentiment vs. Loanword Density\n",
    "_Bar chart_"
   ]
  },
  {
   "cell_type": "code",
   "execution_count": null,
   "metadata": {},
   "outputs": [],
   "source": [
    "df_sentiment = df.groupby(\"sentiment\")[\"loanword_density\"].mean().reset_index()\n",
    "\n",
    "fig = px.bar(\n",
    "    df_sentiment,\n",
    "    x=\"sentiment\",\n",
    "    y=\"avg_density\",\n",
    "    title=\"Loanword Density by Sentiment\",\n",
    "    labels={\n",
    "        \"avg_density\": \"Avg. Loanword Density\"\n",
    "    }\n",
    ")\n",
    "\n",
    "fig.show()"
   ]
  },
  {
   "cell_type": "markdown",
   "metadata": {},
   "source": [
    "Shows more English words in articles is seen as more positive"
   ]
  },
  {
   "cell_type": "markdown",
   "metadata": {},
   "source": [
    "## Top Loanwords\n",
    "_Horizontal Bar Chart_"
   ]
  },
  {
   "cell_type": "code",
   "execution_count": null,
   "metadata": {},
   "outputs": [],
   "source": [
    "all_words = list(chain.from_iterable(df[\"loanwords\"]))\n",
    "word_freq = Counter(all_words).most_common(20)\n",
    "df_top = pd.DataFrame(word_freq, columns=[\"loanword\", \"frequency\"])\n",
    "\n",
    "fig = px.bar(\n",
    "    df_top.sort_values(\"frequency\", ascending=True),\n",
    "    x=\"frequency\",\n",
    "    y=\"loanword\",\n",
    "    orientation=\"h\",\n",
    "    title=\"Top English loanwords in German Articles\",\n",
    "    labels={\n",
    "        \"loanwords\": \"Loanwords\",\n",
    "        \"frequency\": \"Frequency\"\n",
    "    }\n",
    ")\n",
    "\n",
    "fig.show()"
   ]
  },
  {
   "cell_type": "markdown",
   "metadata": {},
   "source": [
    "Show top loanwords"
   ]
  }
 ],
 "metadata": {
  "language_info": {
   "name": "python"
  }
 },
 "nbformat": 4,
 "nbformat_minor": 2
}
