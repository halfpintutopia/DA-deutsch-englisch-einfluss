{
 "cells": [
  {
   "cell_type": "markdown",
   "metadata": {},
   "source": [
    "# Flourish CSVs\n",
    "\n",
    "1. Export from Python\n",
    "2. Import to Flourish\n",
    "3. Build Charts\n",
    "\n",
    "_Formatting CSVs to match the Flourish templates._"
   ]
  },
  {
   "cell_type": "code",
   "execution_count": null,
   "metadata": {},
   "outputs": [],
   "source": [
    "import warnings\n",
    "from pathlib import Path\n",
    "import inspect\n",
    "import sys\n",
    "import plotly.express as px\n",
    "import numpy as np\n",
    "import pandas as pd\n",
    "from ast import literal_eval\n",
    "from collections import Counter\n",
    "from itertools import chain\n",
    "\n",
    "warnings.filterwarnings('ignore')\n",
    "\n",
    "pd.options.mode.chained_assignment = None"
   ]
  },
  {
   "cell_type": "code",
   "execution_count": null,
   "metadata": {},
   "outputs": [],
   "source": [
    "df = pd.DataFrame(\"location\")"
   ]
  },
  {
   "cell_type": "markdown",
   "metadata": {},
   "source": [
    "## Line Chart -> Loanword Density Over Time (2016 - 2024)"
   ]
  },
  {
   "cell_type": "code",
   "execution_count": null,
   "metadata": {},
   "outputs": [],
   "source": [
    "# For Slide 4, 11, 12\n",
    "df_line = df.groupby(\"year\")[\"loanword_density\"].mean().reset_index()\n",
    "df_line.to_csv(\"flourish_data/loanword_density_by_year.csv\", index=False)"
   ]
  },
  {
   "cell_type": "markdown",
   "metadata": {},
   "source": [
    "## Histogram -> Loanword Density Speed\n",
    "\n",
    "_Histograms are not available on Flourish_"
   ]
  },
  {
   "cell_type": "code",
   "execution_count": null,
   "metadata": {},
   "outputs": [],
   "source": [
    "# For Slide 5\n",
    "df[\"density_bin\"] = pd.cut(df[\"loanword_density\"], bins=10)\n",
    "df_hist = df[\"density_bin\"].value_counts().sort_index().reset_index()\n",
    "df_hist.columns = [\"density_bin\", \"article_count\"]\n",
    "df_hist.to_csv(\"flourish_data/loanword_density_histogram.csv\", index=False)"
   ]
  },
  {
   "cell_type": "markdown",
   "metadata": {},
   "source": [
    "## Boxplot or Bar -> Domain vs. Loanword Usage\n",
    "\n",
    "_As only one domain use topics_"
   ]
  },
  {
   "cell_type": "code",
   "execution_count": null,
   "metadata": {},
   "outputs": [],
   "source": [
    "# For Slide 6\n",
    "df_topic = df.groupby(\"topic\")[\"loanword_density\"].mean().reset_index()\n",
    "df_topic.to_csv(\"flourish_data/loanword_density_by_topic.csv\", index=False)"
   ]
  },
  {
   "cell_type": "markdown",
   "metadata": {},
   "source": [
    "## Sentiment Correlation -> Boxplot / Bar"
   ]
  },
  {
   "cell_type": "code",
   "execution_count": null,
   "metadata": {},
   "outputs": [],
   "source": [
    "# For Slide 7\n",
    "df_sentiment = df.groupby(\"sentiment\")[\"loanword_density\"].mean().reset_index()\n",
    "df_sentiment.to_csv(\"flourish_data/loanword_density_by_sentiment.csv\", index=False)"
   ]
  },
  {
   "cell_type": "markdown",
   "metadata": {},
   "source": [
    "## Top Loanwords -> Horizontal Bar Chart"
   ]
  },
  {
   "cell_type": "code",
   "execution_count": null,
   "metadata": {},
   "outputs": [],
   "source": [
    "# For Slide 8\n",
    "all_words = list(chain.from_iterable(df[\"loanwords\"]))\n",
    "word_freq = Counter(all_words).most_common(20)\n",
    "df_top = pd.DataFrame(word_freq, columns=[\"loanword\", \"frequency\"])\n",
    "df_top.to_csv(\"flourish_data/top_loanwords.csv\", index=False)"
   ]
  }
 ],
 "metadata": {
  "language_info": {
   "name": "python"
  }
 },
 "nbformat": 4,
 "nbformat_minor": 2
}
